{
 "cells": [
  {
   "cell_type": "code",
   "execution_count": 2,
   "id": "ddbe73d5",
   "metadata": {},
   "outputs": [],
   "source": [
    "import pandas as pd\n",
    "import numpy as np\n",
    "import matplotlib\n",
    "import matplotlib.pyplot as plt\n",
    "import seaborn as sns\n",
    "import plotly.express as px\n",
    "from zipfile import ZipFile\n",
    "import os"
   ]
  },
  {
   "cell_type": "code",
   "execution_count": 4,
   "id": "ba0654b0",
   "metadata": {},
   "outputs": [
    {
     "data": {
      "text/plain": [
       "['test.csv', 'train.csv']"
      ]
     },
     "execution_count": 4,
     "metadata": {},
     "output_type": "execute_result"
    }
   ],
   "source": [
    "directory = 'datasets/'\n",
    "os.listdir(directory)"
   ]
  },
  {
   "cell_type": "markdown",
   "id": "401dbe6a",
   "metadata": {},
   "source": [
    "User_ID: Unique ID of the user. There are a total of 5891 users in the dataset.\n",
    "\n",
    "Product_ID: Unique ID of the product. There are a total of 3623 products in the dataset.\n",
    "\n",
    "Gender: indicates the gender of the person making the transaction.\n",
    "\n",
    "Age: indicates the age group of the person making the transaction.\n",
    "\n",
    "Occupation: shows the occupation of the user, already labeled with numbers 0 to 20.\n",
    "\n",
    "City_Category: User's living city category. Cities are categorized into 3 different categories 'A', 'B' and 'C'.\n",
    "\n",
    "Stay_In_Current_City_Years: Indicates how long the users has lived in this city.\n",
    "\n",
    "Marital_Status: is 0 if the user is not married and 1 otherwise.\n",
    "\n",
    "Product_Category_1 to _3: Category of the product. All 3 are already labaled with numbers.\n",
    "\n",
    "Purchase: Purchase amount."
   ]
  },
  {
   "cell_type": "markdown",
   "id": "4347fead",
   "metadata": {},
   "source": [
    "# Data Loading"
   ]
  },
  {
   "cell_type": "code",
   "execution_count": 50,
   "id": "c1efccc4",
   "metadata": {
    "scrolled": true
   },
   "outputs": [],
   "source": [
    "train_set = pd.read_csv(directory+'train.csv')\n",
    "test = pd.read_csv(directory+'test.csv') "
   ]
  },
  {
   "cell_type": "code",
   "execution_count": 79,
   "id": "0f42a086",
   "metadata": {
    "scrolled": true
   },
   "outputs": [
    {
     "data": {
      "text/html": [
       "<div>\n",
       "<style scoped>\n",
       "    .dataframe tbody tr th:only-of-type {\n",
       "        vertical-align: middle;\n",
       "    }\n",
       "\n",
       "    .dataframe tbody tr th {\n",
       "        vertical-align: top;\n",
       "    }\n",
       "\n",
       "    .dataframe thead th {\n",
       "        text-align: right;\n",
       "    }\n",
       "</style>\n",
       "<table border=\"1\" class=\"dataframe\">\n",
       "  <thead>\n",
       "    <tr style=\"text-align: right;\">\n",
       "      <th></th>\n",
       "      <th>User_ID</th>\n",
       "      <th>Product_ID</th>\n",
       "      <th>Gender</th>\n",
       "      <th>Age</th>\n",
       "      <th>Occupation</th>\n",
       "      <th>City_Category</th>\n",
       "      <th>Stay_In_Current_City_Years</th>\n",
       "      <th>Marital_Status</th>\n",
       "      <th>Product_Category_1</th>\n",
       "      <th>Product_Category_2</th>\n",
       "      <th>Product_Category_3</th>\n",
       "      <th>Purchase</th>\n",
       "    </tr>\n",
       "  </thead>\n",
       "  <tbody>\n",
       "    <tr>\n",
       "      <th>0</th>\n",
       "      <td>1000001</td>\n",
       "      <td>P00069042</td>\n",
       "      <td>F</td>\n",
       "      <td>0-17</td>\n",
       "      <td>10</td>\n",
       "      <td>A</td>\n",
       "      <td>2</td>\n",
       "      <td>0</td>\n",
       "      <td>3</td>\n",
       "      <td>NaN</td>\n",
       "      <td>NaN</td>\n",
       "      <td>8370</td>\n",
       "    </tr>\n",
       "    <tr>\n",
       "      <th>1</th>\n",
       "      <td>1000001</td>\n",
       "      <td>P00248942</td>\n",
       "      <td>F</td>\n",
       "      <td>0-17</td>\n",
       "      <td>10</td>\n",
       "      <td>A</td>\n",
       "      <td>2</td>\n",
       "      <td>0</td>\n",
       "      <td>1</td>\n",
       "      <td>6.0</td>\n",
       "      <td>14.0</td>\n",
       "      <td>15200</td>\n",
       "    </tr>\n",
       "    <tr>\n",
       "      <th>2</th>\n",
       "      <td>1000001</td>\n",
       "      <td>P00087842</td>\n",
       "      <td>F</td>\n",
       "      <td>0-17</td>\n",
       "      <td>10</td>\n",
       "      <td>A</td>\n",
       "      <td>2</td>\n",
       "      <td>0</td>\n",
       "      <td>12</td>\n",
       "      <td>NaN</td>\n",
       "      <td>NaN</td>\n",
       "      <td>1422</td>\n",
       "    </tr>\n",
       "    <tr>\n",
       "      <th>3</th>\n",
       "      <td>1000001</td>\n",
       "      <td>P00085442</td>\n",
       "      <td>F</td>\n",
       "      <td>0-17</td>\n",
       "      <td>10</td>\n",
       "      <td>A</td>\n",
       "      <td>2</td>\n",
       "      <td>0</td>\n",
       "      <td>12</td>\n",
       "      <td>14.0</td>\n",
       "      <td>NaN</td>\n",
       "      <td>1057</td>\n",
       "    </tr>\n",
       "    <tr>\n",
       "      <th>4</th>\n",
       "      <td>1000002</td>\n",
       "      <td>P00285442</td>\n",
       "      <td>M</td>\n",
       "      <td>55+</td>\n",
       "      <td>16</td>\n",
       "      <td>C</td>\n",
       "      <td>4+</td>\n",
       "      <td>0</td>\n",
       "      <td>8</td>\n",
       "      <td>NaN</td>\n",
       "      <td>NaN</td>\n",
       "      <td>7969</td>\n",
       "    </tr>\n",
       "  </tbody>\n",
       "</table>\n",
       "</div>"
      ],
      "text/plain": [
       "   User_ID Product_ID Gender   Age  Occupation City_Category  \\\n",
       "0  1000001  P00069042      F  0-17          10             A   \n",
       "1  1000001  P00248942      F  0-17          10             A   \n",
       "2  1000001  P00087842      F  0-17          10             A   \n",
       "3  1000001  P00085442      F  0-17          10             A   \n",
       "4  1000002  P00285442      M   55+          16             C   \n",
       "\n",
       "  Stay_In_Current_City_Years  Marital_Status  Product_Category_1  \\\n",
       "0                          2               0                   3   \n",
       "1                          2               0                   1   \n",
       "2                          2               0                  12   \n",
       "3                          2               0                  12   \n",
       "4                         4+               0                   8   \n",
       "\n",
       "   Product_Category_2  Product_Category_3  Purchase  \n",
       "0                 NaN                 NaN      8370  \n",
       "1                 6.0                14.0     15200  \n",
       "2                 NaN                 NaN      1422  \n",
       "3                14.0                 NaN      1057  \n",
       "4                 NaN                 NaN      7969  "
      ]
     },
     "execution_count": 79,
     "metadata": {},
     "output_type": "execute_result"
    }
   ],
   "source": [
    "train_set.head()"
   ]
  },
  {
   "cell_type": "code",
   "execution_count": 119,
   "id": "47f2df2a",
   "metadata": {
    "scrolled": true
   },
   "outputs": [
    {
     "data": {
      "text/html": [
       "<div>\n",
       "<style scoped>\n",
       "    .dataframe tbody tr th:only-of-type {\n",
       "        vertical-align: middle;\n",
       "    }\n",
       "\n",
       "    .dataframe tbody tr th {\n",
       "        vertical-align: top;\n",
       "    }\n",
       "\n",
       "    .dataframe thead th {\n",
       "        text-align: right;\n",
       "    }\n",
       "</style>\n",
       "<table border=\"1\" class=\"dataframe\">\n",
       "  <thead>\n",
       "    <tr style=\"text-align: right;\">\n",
       "      <th></th>\n",
       "      <th>User_ID</th>\n",
       "      <th>Product_ID</th>\n",
       "      <th>Gender</th>\n",
       "      <th>Age</th>\n",
       "      <th>Occupation</th>\n",
       "      <th>City_Category</th>\n",
       "      <th>Stay_In_Current_City_Years</th>\n",
       "      <th>Marital_Status</th>\n",
       "      <th>Product_Category_1</th>\n",
       "      <th>Product_Category_2</th>\n",
       "      <th>Product_Category_3</th>\n",
       "    </tr>\n",
       "  </thead>\n",
       "  <tbody>\n",
       "    <tr>\n",
       "      <th>0</th>\n",
       "      <td>1000004</td>\n",
       "      <td>P00128942</td>\n",
       "      <td>M</td>\n",
       "      <td>46-50</td>\n",
       "      <td>7</td>\n",
       "      <td>B</td>\n",
       "      <td>2</td>\n",
       "      <td>1</td>\n",
       "      <td>1</td>\n",
       "      <td>11.0</td>\n",
       "      <td>NaN</td>\n",
       "    </tr>\n",
       "    <tr>\n",
       "      <th>1</th>\n",
       "      <td>1000009</td>\n",
       "      <td>P00113442</td>\n",
       "      <td>M</td>\n",
       "      <td>26-35</td>\n",
       "      <td>17</td>\n",
       "      <td>C</td>\n",
       "      <td>0</td>\n",
       "      <td>0</td>\n",
       "      <td>3</td>\n",
       "      <td>5.0</td>\n",
       "      <td>NaN</td>\n",
       "    </tr>\n",
       "    <tr>\n",
       "      <th>2</th>\n",
       "      <td>1000010</td>\n",
       "      <td>P00288442</td>\n",
       "      <td>F</td>\n",
       "      <td>36-45</td>\n",
       "      <td>1</td>\n",
       "      <td>B</td>\n",
       "      <td>4+</td>\n",
       "      <td>1</td>\n",
       "      <td>5</td>\n",
       "      <td>14.0</td>\n",
       "      <td>NaN</td>\n",
       "    </tr>\n",
       "    <tr>\n",
       "      <th>3</th>\n",
       "      <td>1000010</td>\n",
       "      <td>P00145342</td>\n",
       "      <td>F</td>\n",
       "      <td>36-45</td>\n",
       "      <td>1</td>\n",
       "      <td>B</td>\n",
       "      <td>4+</td>\n",
       "      <td>1</td>\n",
       "      <td>4</td>\n",
       "      <td>9.0</td>\n",
       "      <td>NaN</td>\n",
       "    </tr>\n",
       "    <tr>\n",
       "      <th>4</th>\n",
       "      <td>1000011</td>\n",
       "      <td>P00053842</td>\n",
       "      <td>F</td>\n",
       "      <td>26-35</td>\n",
       "      <td>1</td>\n",
       "      <td>C</td>\n",
       "      <td>1</td>\n",
       "      <td>0</td>\n",
       "      <td>4</td>\n",
       "      <td>5.0</td>\n",
       "      <td>12.0</td>\n",
       "    </tr>\n",
       "  </tbody>\n",
       "</table>\n",
       "</div>"
      ],
      "text/plain": [
       "   User_ID Product_ID Gender    Age  Occupation City_Category  \\\n",
       "0  1000004  P00128942      M  46-50           7             B   \n",
       "1  1000009  P00113442      M  26-35          17             C   \n",
       "2  1000010  P00288442      F  36-45           1             B   \n",
       "3  1000010  P00145342      F  36-45           1             B   \n",
       "4  1000011  P00053842      F  26-35           1             C   \n",
       "\n",
       "  Stay_In_Current_City_Years  Marital_Status  Product_Category_1  \\\n",
       "0                          2               1                   1   \n",
       "1                          0               0                   3   \n",
       "2                         4+               1                   5   \n",
       "3                         4+               1                   4   \n",
       "4                          1               0                   4   \n",
       "\n",
       "   Product_Category_2  Product_Category_3  \n",
       "0                11.0                 NaN  \n",
       "1                 5.0                 NaN  \n",
       "2                14.0                 NaN  \n",
       "3                 9.0                 NaN  \n",
       "4                 5.0                12.0  "
      ]
     },
     "execution_count": 119,
     "metadata": {},
     "output_type": "execute_result"
    }
   ],
   "source": [
    "test.head()"
   ]
  },
  {
   "cell_type": "code",
   "execution_count": 81,
   "id": "2fe62823",
   "metadata": {},
   "outputs": [
    {
     "data": {
      "text/plain": [
       "(550068, 12)"
      ]
     },
     "execution_count": 81,
     "metadata": {},
     "output_type": "execute_result"
    }
   ],
   "source": [
    "train_set.shape"
   ]
  },
  {
   "cell_type": "code",
   "execution_count": 82,
   "id": "6287fabc",
   "metadata": {},
   "outputs": [
    {
     "data": {
      "text/plain": [
       "(233599, 11)"
      ]
     },
     "execution_count": 82,
     "metadata": {},
     "output_type": "execute_result"
    }
   ],
   "source": [
    "test.shape"
   ]
  },
  {
   "cell_type": "code",
   "execution_count": 83,
   "id": "f17b2f5a",
   "metadata": {
    "scrolled": true
   },
   "outputs": [
    {
     "name": "stdout",
     "output_type": "stream",
     "text": [
      "<class 'pandas.core.frame.DataFrame'>\n",
      "RangeIndex: 550068 entries, 0 to 550067\n",
      "Data columns (total 12 columns):\n",
      " #   Column                      Non-Null Count   Dtype  \n",
      "---  ------                      --------------   -----  \n",
      " 0   User_ID                     550068 non-null  int64  \n",
      " 1   Product_ID                  550068 non-null  object \n",
      " 2   Gender                      550068 non-null  object \n",
      " 3   Age                         550068 non-null  object \n",
      " 4   Occupation                  550068 non-null  int64  \n",
      " 5   City_Category               550068 non-null  object \n",
      " 6   Stay_In_Current_City_Years  550068 non-null  object \n",
      " 7   Marital_Status              550068 non-null  int64  \n",
      " 8   Product_Category_1          550068 non-null  int64  \n",
      " 9   Product_Category_2          376430 non-null  float64\n",
      " 10  Product_Category_3          166821 non-null  float64\n",
      " 11  Purchase                    550068 non-null  int64  \n",
      "dtypes: float64(2), int64(5), object(5)\n",
      "memory usage: 50.4+ MB\n"
     ]
    }
   ],
   "source": [
    "train_set.info()"
   ]
  },
  {
   "cell_type": "code",
   "execution_count": 84,
   "id": "b1f4c5c4",
   "metadata": {},
   "outputs": [
    {
     "name": "stdout",
     "output_type": "stream",
     "text": [
      "<class 'pandas.core.frame.DataFrame'>\n",
      "RangeIndex: 233599 entries, 0 to 233598\n",
      "Data columns (total 11 columns):\n",
      " #   Column                      Non-Null Count   Dtype  \n",
      "---  ------                      --------------   -----  \n",
      " 0   User_ID                     233599 non-null  int64  \n",
      " 1   Product_ID                  233599 non-null  object \n",
      " 2   Gender                      233599 non-null  object \n",
      " 3   Age                         233599 non-null  object \n",
      " 4   Occupation                  233599 non-null  int64  \n",
      " 5   City_Category               233599 non-null  object \n",
      " 6   Stay_In_Current_City_Years  233599 non-null  object \n",
      " 7   Marital_Status              233599 non-null  int64  \n",
      " 8   Product_Category_1          233599 non-null  int64  \n",
      " 9   Product_Category_2          161255 non-null  float64\n",
      " 10  Product_Category_3          71037 non-null   float64\n",
      "dtypes: float64(2), int64(4), object(5)\n",
      "memory usage: 19.6+ MB\n"
     ]
    }
   ],
   "source": [
    "test.info()"
   ]
  },
  {
   "cell_type": "markdown",
   "id": "4550cf83",
   "metadata": {},
   "source": [
    "# Cleaning and Checking through the data"
   ]
  },
  {
   "cell_type": "code",
   "execution_count": 85,
   "id": "81e405bb",
   "metadata": {
    "scrolled": true
   },
   "outputs": [],
   "source": [
    "null_value_train = round(train_set.isnull().sum()/train_set.shape[0] *100, 2)\n",
    "null_value_test = round(test.isnull().sum()/train_set.shape[0] *100, 2)"
   ]
  },
  {
   "cell_type": "code",
   "execution_count": 86,
   "id": "7ca10454",
   "metadata": {},
   "outputs": [
    {
     "data": {
      "text/plain": [
       "User_ID                        0.00\n",
       "Product_ID                     0.00\n",
       "Gender                         0.00\n",
       "Age                            0.00\n",
       "Occupation                     0.00\n",
       "City_Category                  0.00\n",
       "Stay_In_Current_City_Years     0.00\n",
       "Marital_Status                 0.00\n",
       "Product_Category_1             0.00\n",
       "Product_Category_2            31.57\n",
       "Product_Category_3            69.67\n",
       "Purchase                       0.00\n",
       "dtype: float64"
      ]
     },
     "execution_count": 86,
     "metadata": {},
     "output_type": "execute_result"
    }
   ],
   "source": [
    "null_value_train"
   ]
  },
  {
   "cell_type": "code",
   "execution_count": 87,
   "id": "9ec8d9da",
   "metadata": {},
   "outputs": [
    {
     "data": {
      "text/plain": [
       "User_ID                        0.00\n",
       "Product_ID                     0.00\n",
       "Gender                         0.00\n",
       "Age                            0.00\n",
       "Occupation                     0.00\n",
       "City_Category                  0.00\n",
       "Stay_In_Current_City_Years     0.00\n",
       "Marital_Status                 0.00\n",
       "Product_Category_1             0.00\n",
       "Product_Category_2            13.15\n",
       "Product_Category_3            29.55\n",
       "dtype: float64"
      ]
     },
     "execution_count": 87,
     "metadata": {},
     "output_type": "execute_result"
    }
   ],
   "source": [
    "null_value_test"
   ]
  },
  {
   "cell_type": "markdown",
   "id": "29e3024e",
   "metadata": {},
   "source": [
    "## Filling the missing value in the datasets"
   ]
  },
  {
   "cell_type": "code",
   "execution_count": 51,
   "id": "bc8ef203",
   "metadata": {},
   "outputs": [],
   "source": [
    "x_train = train_set.drop('Purchase', axis=1)\n",
    "targets = train_set.Purchase"
   ]
  },
  {
   "cell_type": "code",
   "execution_count": 88,
   "id": "b1835b95",
   "metadata": {},
   "outputs": [],
   "source": [
    "# for training set\n",
    "product_cat2 = train_set['Product_Category_2'].median()\n",
    "product_cat3 = train_set['Product_Category_3'].median()\n",
    "train_set['Product_Category_2'].fillna(product_cat2, inplace=True)\n",
    "train_set['Product_Category_3'].fillna(product_cat3, inplace=True)"
   ]
  },
  {
   "cell_type": "code",
   "execution_count": 89,
   "id": "e70b4a75",
   "metadata": {},
   "outputs": [
    {
     "data": {
      "text/plain": [
       "User_ID                       0.0\n",
       "Product_ID                    0.0\n",
       "Gender                        0.0\n",
       "Age                           0.0\n",
       "Occupation                    0.0\n",
       "City_Category                 0.0\n",
       "Stay_In_Current_City_Years    0.0\n",
       "Marital_Status                0.0\n",
       "Product_Category_1            0.0\n",
       "Product_Category_2            0.0\n",
       "Product_Category_3            0.0\n",
       "Purchase                      0.0\n",
       "dtype: float64"
      ]
     },
     "execution_count": 89,
     "metadata": {},
     "output_type": "execute_result"
    }
   ],
   "source": [
    "round(train_set.isnull().sum()/train_set.shape[0] *100, 2)"
   ]
  },
  {
   "cell_type": "code",
   "execution_count": 90,
   "id": "e4ed86cb",
   "metadata": {
    "scrolled": false
   },
   "outputs": [
    {
     "data": {
      "text/html": [
       "<div>\n",
       "<style scoped>\n",
       "    .dataframe tbody tr th:only-of-type {\n",
       "        vertical-align: middle;\n",
       "    }\n",
       "\n",
       "    .dataframe tbody tr th {\n",
       "        vertical-align: top;\n",
       "    }\n",
       "\n",
       "    .dataframe thead th {\n",
       "        text-align: right;\n",
       "    }\n",
       "</style>\n",
       "<table border=\"1\" class=\"dataframe\">\n",
       "  <thead>\n",
       "    <tr style=\"text-align: right;\">\n",
       "      <th></th>\n",
       "      <th>count</th>\n",
       "      <th>unique</th>\n",
       "      <th>top</th>\n",
       "      <th>freq</th>\n",
       "      <th>mean</th>\n",
       "      <th>std</th>\n",
       "      <th>min</th>\n",
       "      <th>25%</th>\n",
       "      <th>50%</th>\n",
       "      <th>75%</th>\n",
       "      <th>max</th>\n",
       "    </tr>\n",
       "  </thead>\n",
       "  <tbody>\n",
       "    <tr>\n",
       "      <th>User_ID</th>\n",
       "      <td>550068.0</td>\n",
       "      <td>NaN</td>\n",
       "      <td>NaN</td>\n",
       "      <td>NaN</td>\n",
       "      <td>1003028.842401</td>\n",
       "      <td>1727.591586</td>\n",
       "      <td>1000001.0</td>\n",
       "      <td>1001516.0</td>\n",
       "      <td>1003077.0</td>\n",
       "      <td>1004478.0</td>\n",
       "      <td>1006040.0</td>\n",
       "    </tr>\n",
       "    <tr>\n",
       "      <th>Product_ID</th>\n",
       "      <td>550068</td>\n",
       "      <td>3631</td>\n",
       "      <td>P00265242</td>\n",
       "      <td>1880</td>\n",
       "      <td>NaN</td>\n",
       "      <td>NaN</td>\n",
       "      <td>NaN</td>\n",
       "      <td>NaN</td>\n",
       "      <td>NaN</td>\n",
       "      <td>NaN</td>\n",
       "      <td>NaN</td>\n",
       "    </tr>\n",
       "    <tr>\n",
       "      <th>Gender</th>\n",
       "      <td>550068</td>\n",
       "      <td>2</td>\n",
       "      <td>M</td>\n",
       "      <td>414259</td>\n",
       "      <td>NaN</td>\n",
       "      <td>NaN</td>\n",
       "      <td>NaN</td>\n",
       "      <td>NaN</td>\n",
       "      <td>NaN</td>\n",
       "      <td>NaN</td>\n",
       "      <td>NaN</td>\n",
       "    </tr>\n",
       "    <tr>\n",
       "      <th>Age</th>\n",
       "      <td>550068</td>\n",
       "      <td>7</td>\n",
       "      <td>26-35</td>\n",
       "      <td>219587</td>\n",
       "      <td>NaN</td>\n",
       "      <td>NaN</td>\n",
       "      <td>NaN</td>\n",
       "      <td>NaN</td>\n",
       "      <td>NaN</td>\n",
       "      <td>NaN</td>\n",
       "      <td>NaN</td>\n",
       "    </tr>\n",
       "    <tr>\n",
       "      <th>Occupation</th>\n",
       "      <td>550068.0</td>\n",
       "      <td>NaN</td>\n",
       "      <td>NaN</td>\n",
       "      <td>NaN</td>\n",
       "      <td>8.076707</td>\n",
       "      <td>6.52266</td>\n",
       "      <td>0.0</td>\n",
       "      <td>2.0</td>\n",
       "      <td>7.0</td>\n",
       "      <td>14.0</td>\n",
       "      <td>20.0</td>\n",
       "    </tr>\n",
       "    <tr>\n",
       "      <th>City_Category</th>\n",
       "      <td>550068</td>\n",
       "      <td>3</td>\n",
       "      <td>B</td>\n",
       "      <td>231173</td>\n",
       "      <td>NaN</td>\n",
       "      <td>NaN</td>\n",
       "      <td>NaN</td>\n",
       "      <td>NaN</td>\n",
       "      <td>NaN</td>\n",
       "      <td>NaN</td>\n",
       "      <td>NaN</td>\n",
       "    </tr>\n",
       "    <tr>\n",
       "      <th>Stay_In_Current_City_Years</th>\n",
       "      <td>550068</td>\n",
       "      <td>5</td>\n",
       "      <td>1</td>\n",
       "      <td>193821</td>\n",
       "      <td>NaN</td>\n",
       "      <td>NaN</td>\n",
       "      <td>NaN</td>\n",
       "      <td>NaN</td>\n",
       "      <td>NaN</td>\n",
       "      <td>NaN</td>\n",
       "      <td>NaN</td>\n",
       "    </tr>\n",
       "    <tr>\n",
       "      <th>Marital_Status</th>\n",
       "      <td>550068.0</td>\n",
       "      <td>NaN</td>\n",
       "      <td>NaN</td>\n",
       "      <td>NaN</td>\n",
       "      <td>0.409653</td>\n",
       "      <td>0.49177</td>\n",
       "      <td>0.0</td>\n",
       "      <td>0.0</td>\n",
       "      <td>0.0</td>\n",
       "      <td>1.0</td>\n",
       "      <td>1.0</td>\n",
       "    </tr>\n",
       "    <tr>\n",
       "      <th>Product_Category_1</th>\n",
       "      <td>550068.0</td>\n",
       "      <td>NaN</td>\n",
       "      <td>NaN</td>\n",
       "      <td>NaN</td>\n",
       "      <td>5.40427</td>\n",
       "      <td>3.936211</td>\n",
       "      <td>1.0</td>\n",
       "      <td>1.0</td>\n",
       "      <td>5.0</td>\n",
       "      <td>8.0</td>\n",
       "      <td>20.0</td>\n",
       "    </tr>\n",
       "    <tr>\n",
       "      <th>Product_Category_2</th>\n",
       "      <td>550068.0</td>\n",
       "      <td>NaN</td>\n",
       "      <td>NaN</td>\n",
       "      <td>NaN</td>\n",
       "      <td>9.576434</td>\n",
       "      <td>4.226025</td>\n",
       "      <td>2.0</td>\n",
       "      <td>8.0</td>\n",
       "      <td>9.0</td>\n",
       "      <td>14.0</td>\n",
       "      <td>18.0</td>\n",
       "    </tr>\n",
       "    <tr>\n",
       "      <th>Product_Category_3</th>\n",
       "      <td>550068.0</td>\n",
       "      <td>NaN</td>\n",
       "      <td>NaN</td>\n",
       "      <td>NaN</td>\n",
       "      <td>13.596114</td>\n",
       "      <td>2.352863</td>\n",
       "      <td>3.0</td>\n",
       "      <td>14.0</td>\n",
       "      <td>14.0</td>\n",
       "      <td>14.0</td>\n",
       "      <td>18.0</td>\n",
       "    </tr>\n",
       "    <tr>\n",
       "      <th>Purchase</th>\n",
       "      <td>550068.0</td>\n",
       "      <td>NaN</td>\n",
       "      <td>NaN</td>\n",
       "      <td>NaN</td>\n",
       "      <td>9263.968713</td>\n",
       "      <td>5023.065394</td>\n",
       "      <td>12.0</td>\n",
       "      <td>5823.0</td>\n",
       "      <td>8047.0</td>\n",
       "      <td>12054.0</td>\n",
       "      <td>23961.0</td>\n",
       "    </tr>\n",
       "  </tbody>\n",
       "</table>\n",
       "</div>"
      ],
      "text/plain": [
       "                               count unique        top    freq  \\\n",
       "User_ID                     550068.0    NaN        NaN     NaN   \n",
       "Product_ID                    550068   3631  P00265242    1880   \n",
       "Gender                        550068      2          M  414259   \n",
       "Age                           550068      7      26-35  219587   \n",
       "Occupation                  550068.0    NaN        NaN     NaN   \n",
       "City_Category                 550068      3          B  231173   \n",
       "Stay_In_Current_City_Years    550068      5          1  193821   \n",
       "Marital_Status              550068.0    NaN        NaN     NaN   \n",
       "Product_Category_1          550068.0    NaN        NaN     NaN   \n",
       "Product_Category_2          550068.0    NaN        NaN     NaN   \n",
       "Product_Category_3          550068.0    NaN        NaN     NaN   \n",
       "Purchase                    550068.0    NaN        NaN     NaN   \n",
       "\n",
       "                                      mean          std        min        25%  \\\n",
       "User_ID                     1003028.842401  1727.591586  1000001.0  1001516.0   \n",
       "Product_ID                             NaN          NaN        NaN        NaN   \n",
       "Gender                                 NaN          NaN        NaN        NaN   \n",
       "Age                                    NaN          NaN        NaN        NaN   \n",
       "Occupation                        8.076707      6.52266        0.0        2.0   \n",
       "City_Category                          NaN          NaN        NaN        NaN   \n",
       "Stay_In_Current_City_Years             NaN          NaN        NaN        NaN   \n",
       "Marital_Status                    0.409653      0.49177        0.0        0.0   \n",
       "Product_Category_1                 5.40427     3.936211        1.0        1.0   \n",
       "Product_Category_2                9.576434     4.226025        2.0        8.0   \n",
       "Product_Category_3               13.596114     2.352863        3.0       14.0   \n",
       "Purchase                       9263.968713  5023.065394       12.0     5823.0   \n",
       "\n",
       "                                  50%        75%        max  \n",
       "User_ID                     1003077.0  1004478.0  1006040.0  \n",
       "Product_ID                        NaN        NaN        NaN  \n",
       "Gender                            NaN        NaN        NaN  \n",
       "Age                               NaN        NaN        NaN  \n",
       "Occupation                        7.0       14.0       20.0  \n",
       "City_Category                     NaN        NaN        NaN  \n",
       "Stay_In_Current_City_Years        NaN        NaN        NaN  \n",
       "Marital_Status                    0.0        1.0        1.0  \n",
       "Product_Category_1                5.0        8.0       20.0  \n",
       "Product_Category_2                9.0       14.0       18.0  \n",
       "Product_Category_3               14.0       14.0       18.0  \n",
       "Purchase                       8047.0    12054.0    23961.0  "
      ]
     },
     "execution_count": 90,
     "metadata": {},
     "output_type": "execute_result"
    }
   ],
   "source": [
    "train_set.describe(include='all').T"
   ]
  },
  {
   "cell_type": "markdown",
   "id": "e29aaf08",
   "metadata": {},
   "source": [
    "# EDA"
   ]
  },
  {
   "cell_type": "markdown",
   "id": "972b0ce8",
   "metadata": {},
   "source": [
    "## Gender"
   ]
  },
  {
   "cell_type": "markdown",
   "id": "01a4deb6",
   "metadata": {},
   "source": [
    "> Who purchase the most between Male and Female"
   ]
  },
  {
   "cell_type": "code",
   "execution_count": 91,
   "id": "e8e212f8",
   "metadata": {
    "scrolled": true
   },
   "outputs": [
    {
     "data": {
      "image/png": "[encoded data removed]",
      "text/plain": [
       "<Figure size 432x288 with 1 Axes>"
      ]
     },
     "metadata": {},
     "output_type": "display_data"
    }
   ],
   "source": [
    "gender_percent = train_set.Gender.value_counts()\n",
    "plt.pie(gender_percent, explode=[0.1, 0], labels=gender_percent.index, autopct='%1.1f%%',shadow=True);"
   ]
  },
  {
   "cell_type": "markdown",
   "id": "f85319af",
   "metadata": {},
   "source": [
    "There are more male buyer than female."
   ]
  },
  {
   "cell_type": "markdown",
   "id": "ac7a8c21",
   "metadata": {},
   "source": [
    "> Who bought more expensive things among the gender?"
   ]
  },
  {
   "cell_type": "code",
   "execution_count": 92,
   "id": "739f0a85",
   "metadata": {
    "scrolled": false
   },
   "outputs": [
    {
     "name": "stdout",
     "output_type": "stream",
     "text": [
      "Male Purchase: 9437.526040472265\n",
      "Female Purchase: 8734.565765155476\n"
     ]
    }
   ],
   "source": [
    "male_mean_purchase = train_set[train_set.Gender == 'M'].Purchase.mean()\n",
    "female_mean_purchase = train_set[train_set.Gender == 'F'].Purchase.mean()\n",
    "print(f'Male Purchase: {male_mean_purchase}')\n",
    "print(f'Female Purchase: {female_mean_purchase}')"
   ]
  },
  {
   "cell_type": "markdown",
   "id": "8a5902b4",
   "metadata": {},
   "source": [
    "## Occupation"
   ]
  },
  {
   "cell_type": "markdown",
   "id": "a1905a32",
   "metadata": {},
   "source": [
    "This is a numerical column which I think is for a categorical representation of different or common occupation of buyers."
   ]
  },
  {
   "cell_type": "markdown",
   "id": "b45a53bc",
   "metadata": {},
   "source": [
    "> Wich Occupation has the highest buyer?"
   ]
  },
  {
   "cell_type": "code",
   "execution_count": 93,
   "id": "8d269d12",
   "metadata": {},
   "outputs": [
    {
     "data": {
      "image/png": "[encoded data removed]",
      "text/plain": [
       "<Figure size 648x576 with 1 Axes>"
      ]
     },
     "metadata": {
      "needs_background": "light"
     },
     "output_type": "display_data"
    }
   ],
   "source": [
    "fig, ax = plt.subplots(figsize=(9, 8))\n",
    "occupation_percent = round(train_set.Occupation.value_counts(normalize=True)*100,2)\n",
    "sns.barplot(x=occupation_percent.index, y=occupation_percent)\n",
    "sns.despine();"
   ]
  },
  {
   "cell_type": "markdown",
   "id": "b7d781d4",
   "metadata": {},
   "source": [
    "> Which Occupation bought expensive goods the most?"
   ]
  },
  {
   "cell_type": "code",
   "execution_count": 94,
   "id": "99b6baaf",
   "metadata": {},
   "outputs": [
    {
     "data": {
      "image/png": "[encoded data removed]",
      "text/plain": [
       "<Figure size 648x576 with 1 Axes>"
      ]
     },
     "metadata": {
      "needs_background": "light"
     },
     "output_type": "display_data"
    }
   ],
   "source": [
    "fig, ax = plt.subplots(figsize=(9, 8))\n",
    "occupation_purchase = train_set.groupby('Occupation')['Purchase'].mean()\n",
    "sns.barplot(x=occupation_purchase.index, y=occupation_purchase)\n",
    "sns.despine();"
   ]
  },
  {
   "cell_type": "markdown",
   "id": "9a729950",
   "metadata": {},
   "source": [
    "## Age"
   ]
  },
  {
   "cell_type": "code",
   "execution_count": 95,
   "id": "4c2b4033",
   "metadata": {},
   "outputs": [
    {
     "data": {
      "text/plain": [
       "array(['0-17', '55+', '26-35', '46-50', '51-55', '36-45', '18-25'],\n",
       "      dtype=object)"
      ]
     },
     "execution_count": 95,
     "metadata": {},
     "output_type": "execute_result"
    }
   ],
   "source": [
    "train_set.Age.unique()"
   ]
  },
  {
   "cell_type": "markdown",
   "id": "464f449a",
   "metadata": {},
   "source": [
    "> Age category that purchase the most?"
   ]
  },
  {
   "cell_type": "code",
   "execution_count": 96,
   "id": "688ec21f",
   "metadata": {
    "scrolled": false
   },
   "outputs": [],
   "source": [
    "age_percent = round(train_set.Age.value_counts(normalize=True)*100, 2)"
   ]
  },
  {
   "cell_type": "code",
   "execution_count": 97,
   "id": "3028ae5f",
   "metadata": {},
   "outputs": [
    {
     "data": {
      "image/png": "[encoded data removed]",
      "text/plain": [
       "<Figure size 648x576 with 1 Axes>"
      ]
     },
     "metadata": {
      "needs_background": "light"
     },
     "output_type": "display_data"
    }
   ],
   "source": [
    "fig, ax = plt.subplots(figsize=(9, 8))\n",
    "sns.barplot(y=age_percent, x=age_percent.index, order=['0-17','18-25','26-35','36-45','46-50','51-55','55+'], palette='rainbow')\n",
    "for i in ax.patches:\n",
    "    ax.text(i.get_x()+.15, i.get_height()+1, str(i.get_height())+'%', fontsize=12, weight='bold',\n",
    "                color='black')\n",
    "plt.ylabel('Percentage in Total')\n",
    "plt.xlabel('Age range')\n",
    "sns.despine();"
   ]
  },
  {
   "cell_type": "markdown",
   "id": "50bdd0e0",
   "metadata": {},
   "source": [
    "> Age category that bought expensive goods mostly?"
   ]
  },
  {
   "cell_type": "code",
   "execution_count": 98,
   "id": "f6dde2f0",
   "metadata": {},
   "outputs": [
    {
     "data": {
      "image/png": "[encoded data removed]",
      "text/plain": [
       "<Figure size 648x576 with 1 Axes>"
      ]
     },
     "metadata": {
      "needs_background": "light"
     },
     "output_type": "display_data"
    }
   ],
   "source": [
    "age_expensive = round(train_set.groupby('Age')['Purchase'].mean(), 2)\n",
    "age_expensive\n",
    "fig, ax = plt.subplots(figsize=(9, 8))\n",
    "sns.barplot(y=age_expensive, x=age_expensive.index, order=['0-17','18-25','26-35','36-45','46-50','51-55','55+'], palette='rainbow')\n",
    "for i in ax.patches:\n",
    "    ax.text(i.get_x()+.05, i.get_height()+90, str(i.get_height()), fontsize=12, weight='bold',\n",
    "                color='black')\n",
    "plt.ylabel('Amount')\n",
    "plt.xlabel('Age range')\n",
    "sns.despine();"
   ]
  },
  {
   "cell_type": "markdown",
   "id": "61bcbf1f",
   "metadata": {},
   "source": [
    "## City Category"
   ]
  },
  {
   "cell_type": "markdown",
   "id": "c41b2df4",
   "metadata": {},
   "source": [
    "> Which city appeared to purchase the most?"
   ]
  },
  {
   "cell_type": "code",
   "execution_count": 99,
   "id": "edb61981",
   "metadata": {
    "scrolled": true
   },
   "outputs": [
    {
     "data": {
      "image/png": "[encoded data removed]",
      "text/plain": [
       "<Figure size 432x288 with 1 Axes>"
      ]
     },
     "metadata": {},
     "output_type": "display_data"
    }
   ],
   "source": [
    "city_cat = train_set.City_Category.value_counts() \n",
    "plt.pie(city_cat, explode=[0.05,0.05,0.05], shadow=True, autopct='%1.1f%%', labels=city_cat.index);"
   ]
  },
  {
   "cell_type": "markdown",
   "id": "a5e00f90",
   "metadata": {},
   "source": [
    "> City that bought expensive goods the most?"
   ]
  },
  {
   "cell_type": "code",
   "execution_count": 100,
   "id": "fef15922",
   "metadata": {},
   "outputs": [],
   "source": [
    "city_cat_exp = round(train_set.groupby('City_Category')['Purchase'].mean(),2)"
   ]
  },
  {
   "cell_type": "code",
   "execution_count": 101,
   "id": "8d2c8923",
   "metadata": {
    "scrolled": true
   },
   "outputs": [
    {
     "data": {
      "image/png": "[encoded data removed]",
      "text/plain": [
       "<Figure size 648x576 with 1 Axes>"
      ]
     },
     "metadata": {
      "needs_background": "light"
     },
     "output_type": "display_data"
    }
   ],
   "source": [
    "fig, ax = plt.subplots(figsize=(9, 8))\n",
    "sns.barplot(x=city_cat_exp.index, y=city_cat_exp, palette='spring')\n",
    "for i in ax.patches:\n",
    "    ax.text(i.get_x()+.2, i.get_height()+100, str(i.get_height()), fontsize=12, weight='bold',\n",
    "                color='black')\n",
    "plt.ylabel('Mean Purchase', fontsize=14)\n",
    "plt.xlabel('City Category', fontsize=14)\n",
    "sns.despine();"
   ]
  },
  {
   "cell_type": "markdown",
   "id": "61b75149",
   "metadata": {},
   "source": [
    "It can be seen that buyers in city C buy more expensive goods compare to other cities"
   ]
  },
  {
   "cell_type": "markdown",
   "id": "8d0c0791",
   "metadata": {},
   "source": [
    "## Stay_In_Current_City_Years"
   ]
  },
  {
   "cell_type": "markdown",
   "id": "24dbb29a",
   "metadata": {},
   "source": [
    "> Does the years of stay in a city have influenced on the number of buyers?"
   ]
  },
  {
   "cell_type": "code",
   "execution_count": 102,
   "id": "650e1b36",
   "metadata": {
    "scrolled": true
   },
   "outputs": [],
   "source": [
    "years_purchase = round(train_set.Stay_In_Current_City_Years.value_counts(normalize=True)*100, 2)"
   ]
  },
  {
   "cell_type": "code",
   "execution_count": 103,
   "id": "76830d5f",
   "metadata": {},
   "outputs": [
    {
     "data": {
      "image/png": "[encoded data removed]",
      "text/plain": [
       "<Figure size 648x576 with 1 Axes>"
      ]
     },
     "metadata": {
      "needs_background": "light"
     },
     "output_type": "display_data"
    }
   ],
   "source": [
    "fig, ax = plt.subplots(figsize=(9, 8))\n",
    "sns.barplot(x=years_purchase.index, y=years_purchase, palette='spring', order=['0', '1', '2', '3', '4+'])\n",
    "for i in ax.patches:\n",
    "    ax.text(i.get_x()+.2, i.get_height()-3, str(i.get_height())+'%', fontsize=12, weight='bold',\n",
    "                color='white')\n",
    "plt.ylabel('Percentage out of Total', fontsize=14)\n",
    "plt.xlabel('Year used in a City', fontsize=14)\n",
    "sns.despine();"
   ]
  },
  {
   "cell_type": "markdown",
   "id": "637ad960",
   "metadata": {},
   "source": [
    "This shows no deep relationship between the number of years used in a city and the number of buyers."
   ]
  },
  {
   "cell_type": "markdown",
   "id": "3c75e2ed",
   "metadata": {},
   "source": [
    "There's just a good point in the plot above, more attention need to be on buyers that have used a year and more in a city."
   ]
  },
  {
   "cell_type": "markdown",
   "id": "638056b0",
   "metadata": {},
   "source": [
    "> Which year of stay in a city does buyers bought expensive goods?"
   ]
  },
  {
   "cell_type": "code",
   "execution_count": 104,
   "id": "d935e7b1",
   "metadata": {},
   "outputs": [],
   "source": [
    "city_year_exp = train_set.groupby(['City_Category', 'Stay_In_Current_City_Years'])['Purchase'].mean().reset_index()"
   ]
  },
  {
   "cell_type": "code",
   "execution_count": 105,
   "id": "4d67a4aa",
   "metadata": {},
   "outputs": [
    {
     "data": {
      "image/png": "[encoded data removed]",
      "text/plain": [
       "<Figure size 648x576 with 1 Axes>"
      ]
     },
     "metadata": {
      "needs_background": "light"
     },
     "output_type": "display_data"
    }
   ],
   "source": [
    "fig, ax = plt.subplots(figsize=(9, 8))\n",
    "sns.barplot(data=city_year_exp, x='Stay_In_Current_City_Years',\n",
    "           y='Purchase', hue='City_Category', palette='rainbow');\n",
    "plt.ylabel('Mean Purchase', fontsize=14)\n",
    "plt.xlabel('Years of Stay', fontsize=14)\n",
    "plt.legend(loc='best')\n",
    "sns.despine();"
   ]
  },
  {
   "cell_type": "markdown",
   "id": "fbf8e6fa",
   "metadata": {},
   "source": [
    "It's almost the same for all the years with respect to the cities but a point could be draw from the plot; Buyers in City C buy more expensive goods for all the possible years of stay in the city."
   ]
  },
  {
   "cell_type": "markdown",
   "id": "6c497c3e",
   "metadata": {},
   "source": [
    "> Which City those buyers likely stay longer in and does it influence the sales?"
   ]
  },
  {
   "cell_type": "code",
   "execution_count": 106,
   "id": "a63eed6a",
   "metadata": {},
   "outputs": [],
   "source": [
    "city_year = train_set.groupby('City_Category')['Stay_In_Current_City_Years'].value_counts().rename('Count').reset_index()"
   ]
  },
  {
   "cell_type": "code",
   "execution_count": 107,
   "id": "40421c77",
   "metadata": {},
   "outputs": [
    {
     "data": {
      "image/png": "[encoded data removed]",
      "text/plain": [
       "<Figure size 648x576 with 1 Axes>"
      ]
     },
     "metadata": {
      "needs_background": "light"
     },
     "output_type": "display_data"
    }
   ],
   "source": [
    "fig, ax = plt.subplots(figsize=(9, 8))\n",
    "sns.barplot(data=city_year, x='Stay_In_Current_City_Years',\n",
    "           y='Count', hue='City_Category', palette='rainbow', order=['0', '1', '2', '3', '4+']);\n",
    "plt.ylabel('Number of Purchase', fontsize=14)\n",
    "plt.xlabel('Years of Stay', fontsize=14)\n",
    "plt.legend(loc='best')\n",
    "sns.despine();"
   ]
  },
  {
   "cell_type": "markdown",
   "id": "46f51297",
   "metadata": {},
   "source": [
    "As we have seen before, there are more buyers among people who have stayed in the city for 1 year but the majority of the buyers are in City B."
   ]
  },
  {
   "cell_type": "markdown",
   "id": "8645ce0e",
   "metadata": {},
   "source": [
    "## Marital Status"
   ]
  },
  {
   "cell_type": "markdown",
   "id": "ae94ccad",
   "metadata": {},
   "source": [
    "> Which of the marital status (Married or Single) purchase goods the most?"
   ]
  },
  {
   "cell_type": "code",
   "execution_count": 108,
   "id": "184e10f9",
   "metadata": {
    "scrolled": true
   },
   "outputs": [
    {
     "data": {
      "image/png": "[encoded data removed]",
      "text/plain": [
       "<Figure size 432x288 with 1 Axes>"
      ]
     },
     "metadata": {},
     "output_type": "display_data"
    }
   ],
   "source": [
    "marital_status = train_set.Marital_Status.value_counts()\n",
    "plt.pie(marital_status, explode=[0.1, 0], shadow=True, autopct='%1.1f%%', labels=['Single', 'Married']);"
   ]
  },
  {
   "cell_type": "markdown",
   "id": "c9159fb2",
   "metadata": {},
   "source": [
    "Single people purchase more goods so, more attention shoulf be focused on them."
   ]
  },
  {
   "cell_type": "code",
   "execution_count": 109,
   "id": "c00ed723",
   "metadata": {},
   "outputs": [
    {
     "data": {
      "text/plain": [
       "Marital_Status\n",
       "0    9265.91\n",
       "1    9261.17\n",
       "Name: Purchase, dtype: float64"
      ]
     },
     "execution_count": 109,
     "metadata": {},
     "output_type": "execute_result"
    }
   ],
   "source": [
    "marital_status_exp = round(train_set.groupby('Marital_Status')['Purchase'].mean(), 2)\n",
    "marital_status_exp"
   ]
  },
  {
   "cell_type": "markdown",
   "id": "aee10f09",
   "metadata": {},
   "source": [
    "Mean of their purchase is quite close meaning, there's a little difference in the cost of goods they purchased."
   ]
  },
  {
   "cell_type": "markdown",
   "id": "31ef24b2",
   "metadata": {},
   "source": [
    "## Purchase"
   ]
  },
  {
   "cell_type": "markdown",
   "id": "7697554d",
   "metadata": {},
   "source": [
    "> Distribution of the purchase"
   ]
  },
  {
   "cell_type": "code",
   "execution_count": 110,
   "id": "36285247",
   "metadata": {},
   "outputs": [
    {
     "data": {
      "image/png": "[encoded data removed]",
      "text/plain": [
       "<Figure size 648x576 with 1 Axes>"
      ]
     },
     "metadata": {
      "needs_background": "light"
     },
     "output_type": "display_data"
    }
   ],
   "source": [
    "fig, ax = plt.subplots(figsize=(9, 8))\n",
    "sns.kdeplot(train_set.Purchase, fill=True, color='red')\n",
    "sns.despine();"
   ]
  },
  {
   "cell_type": "markdown",
   "id": "5e6379b9",
   "metadata": {},
   "source": [
    "This shows us that the number of purchase is higher between the cost of range 5000-10000"
   ]
  },
  {
   "cell_type": "markdown",
   "id": "c9122a0a",
   "metadata": {},
   "source": [
    "> Purchase distribution of the City with the highest number of purchase i.e., City C"
   ]
  },
  {
   "cell_type": "code",
   "execution_count": 111,
   "id": "37de9a35",
   "metadata": {},
   "outputs": [],
   "source": [
    "city_c_purchase = train_set[train_set.City_Category == 'C'].Purchase"
   ]
  },
  {
   "cell_type": "code",
   "execution_count": 112,
   "id": "7c6225af",
   "metadata": {},
   "outputs": [
    {
     "data": {
      "image/png": "[encoded data removed]",
      "text/plain": [
       "<Figure size 648x576 with 1 Axes>"
      ]
     },
     "metadata": {
      "needs_background": "light"
     },
     "output_type": "display_data"
    }
   ],
   "source": [
    "fig, ax = plt.subplots(figsize=(9, 8))\n",
    "sns.kdeplot(city_c_purchase, fill=True, color='b')\n",
    "sns.despine();"
   ]
  },
  {
   "cell_type": "markdown",
   "id": "4c5cc40d",
   "metadata": {},
   "source": [
    "## Product Category"
   ]
  },
  {
   "cell_type": "markdown",
   "id": "3f6f84c5",
   "metadata": {},
   "source": [
    "> Number of items in different section in All Category "
   ]
  },
  {
   "cell_type": "code",
   "execution_count": 113,
   "id": "527df32a",
   "metadata": {},
   "outputs": [],
   "source": [
    "num_item_1 = train_set.groupby('Product_Category_1')['Product_ID'].nunique()\n",
    "num_item_2 = train_set.groupby('Product_Category_2')['Product_ID'].nunique()\n",
    "num_item_3 = train_set.groupby('Product_Category_3')['Product_ID'].nunique()"
   ]
  },
  {
   "cell_type": "code",
   "execution_count": 114,
   "id": "32149df5",
   "metadata": {
    "scrolled": false
   },
   "outputs": [
    {
     "data": {
      "image/png": "[encoded data removed]",
      "text/plain": [
       "<Figure size 1080x936 with 3 Axes>"
      ]
     },
     "metadata": {
      "needs_background": "light"
     },
     "output_type": "display_data"
    }
   ],
   "source": [
    "fig, ax = plt.subplots(figsize=(15, 13))\n",
    "plt.subplot(3,1,1)\n",
    "sns.barplot(x=num_item_1.index, y=num_item_1, palette='spring')\n",
    "plt.xlabel('Product_Category_1', fontsize=14)\n",
    "plt.ylabel('Number of Purchase', fontsize=12)\n",
    "\n",
    "plt.subplot(3,1,2)\n",
    "sns.barplot(x=num_item_2.index, y=num_item_2, palette='rainbow')\n",
    "plt.xlabel('Product_Category_2', fontsize=14)\n",
    "plt.ylabel('Number of Purchase', fontsize=12)\n",
    "\n",
    "plt.subplot(3,1,3)\n",
    "sns.barplot(x=num_item_3.index, y=num_item_3, palette='Oranges')\n",
    "plt.xlabel('Product_Category_3', fontsize=14)\n",
    "plt.ylabel('Number of Purchase', fontsize=12)\n",
    "fig.tight_layout(h_pad=6)\n",
    "sns.despine();"
   ]
  },
  {
   "cell_type": "markdown",
   "id": "1ae7eb26",
   "metadata": {},
   "source": [
    "The above plot also tells about sections in a category and how high their number of purchase."
   ]
  },
  {
   "cell_type": "markdown",
   "id": "3b9d02e7",
   "metadata": {},
   "source": [
    "> Which of the section in each category has most expensive goods?"
   ]
  },
  {
   "cell_type": "code",
   "execution_count": 115,
   "id": "a13d85c7",
   "metadata": {
    "scrolled": true
   },
   "outputs": [],
   "source": [
    "mean_purchase1 = train_set.groupby('Product_Category_1')['Purchase'].mean()\n",
    "mean_purchase2 = train_set.groupby('Product_Category_2')['Purchase'].mean()\n",
    "mean_purchase3 = train_set.groupby('Product_Category_3')['Purchase'].mean()"
   ]
  },
  {
   "cell_type": "code",
   "execution_count": 116,
   "id": "60b20745",
   "metadata": {
    "scrolled": true
   },
   "outputs": [
    {
     "data": {
      "image/png": "[encoded data removed]",
      "text/plain": [
       "<Figure size 1080x936 with 3 Axes>"
      ]
     },
     "metadata": {
      "needs_background": "light"
     },
     "output_type": "display_data"
    }
   ],
   "source": [
    "fig, ax = plt.subplots(figsize=(15, 13))\n",
    "plt.subplot(3,1,1)\n",
    "sns.barplot(x=mean_purchase1.index, y=mean_purchase1, palette='spring')\n",
    "plt.xlabel('Product_Category_1', fontsize=14)\n",
    "plt.ylabel('Mean Purchase', fontsize=12)\n",
    "\n",
    "plt.subplot(3,1,2)\n",
    "sns.barplot(x=mean_purchase2.index, y=mean_purchase2, palette='rainbow')\n",
    "plt.xlabel('Product_Category_2', fontsize=14)\n",
    "plt.ylabel('Mean Purchase', fontsize=12)\n",
    "\n",
    "plt.subplot(3,1,3)\n",
    "sns.barplot(x=mean_purchase3.index, y=mean_purchase3, palette='Accent')\n",
    "plt.xlabel('Product_Category_3', fontsize=14)\n",
    "plt.ylabel('Mean Purchase', fontsize=12)\n",
    "fig.tight_layout(h_pad=6)\n",
    "sns.despine();"
   ]
  },
  {
   "cell_type": "markdown",
   "id": "f862c20e",
   "metadata": {},
   "source": [
    "# Columns Selection and Preprocessing of the data"
   ]
  },
  {
   "cell_type": "code",
   "execution_count": 52,
   "id": "cac7f6e1",
   "metadata": {},
   "outputs": [],
   "source": [
    "from sklearn.pipeline import Pipeline\n",
    "from sklearn.impute import SimpleImputer\n",
    "from sklearn.preprocessing import MinMaxScaler\n",
    "from sklearn.preprocessing import OneHotEncoder\n",
    "from sklearn.compose import ColumnTransformer\n",
    "from sklearn.model_selection import train_test_split"
   ]
  },
  {
   "cell_type": "code",
   "execution_count": 53,
   "id": "4db69c08",
   "metadata": {},
   "outputs": [],
   "source": [
    "x_test = test.copy()"
   ]
  },
  {
   "cell_type": "code",
   "execution_count": 117,
   "id": "4e187152",
   "metadata": {
    "scrolled": true
   },
   "outputs": [
    {
     "data": {
      "text/plain": [
       "Index(['User_ID', 'Product_ID', 'Gender', 'Age', 'Occupation', 'City_Category',\n",
       "       'Stay_In_Current_City_Years', 'Marital_Status', 'Product_Category_1',\n",
       "       'Product_Category_2', 'Product_Category_3'],\n",
       "      dtype='object')"
      ]
     },
     "execution_count": 117,
     "metadata": {},
     "output_type": "execute_result"
    }
   ],
   "source": [
    "x_train.columns"
   ]
  },
  {
   "cell_type": "code",
   "execution_count": 118,
   "id": "9ec182d8",
   "metadata": {
    "scrolled": false
   },
   "outputs": [
    {
     "data": {
      "text/plain": [
       "User_ID                         int64\n",
       "Product_ID                     object\n",
       "Gender                         object\n",
       "Age                            object\n",
       "Occupation                      int64\n",
       "City_Category                  object\n",
       "Stay_In_Current_City_Years     object\n",
       "Marital_Status                  int64\n",
       "Product_Category_1              int64\n",
       "Product_Category_2            float64\n",
       "Product_Category_3            float64\n",
       "dtype: object"
      ]
     },
     "execution_count": 118,
     "metadata": {},
     "output_type": "execute_result"
    }
   ],
   "source": [
    "x_train.dtypes"
   ]
  },
  {
   "cell_type": "code",
   "execution_count": 54,
   "id": "a0b01a77",
   "metadata": {},
   "outputs": [],
   "source": [
    "def transform_split(data, split, y_split):\n",
    "    ''''\n",
    "        The function is to transform the data and \n",
    "        split (only if necessary by passing True or False to the split parameter)\n",
    "    '''\n",
    "    num_pipeline = Pipeline([\n",
    "    ('impute',SimpleImputer()),\n",
    "    ('scaler', MinMaxScaler())\n",
    "    ])\n",
    "    def transform_data():\n",
    "        #This inner function do the transformation\n",
    "        x = data.drop(['User_ID','Product_ID'], axis=1)\n",
    "        numeric_col = x.select_dtypes(include=['int64', 'float64']).columns.to_list()\n",
    "        cat_col = x.select_dtypes(include= 'object').columns.to_list()\n",
    "        full_pipeline = ColumnTransformer([\n",
    "            ('num', num_pipeline, numeric_col),\n",
    "            ('cat', OneHotEncoder(), cat_col)\n",
    "        ])\n",
    "        return full_pipeline.fit_transform(data)\n",
    "    #For the case if we want to split the data\n",
    "    if split:\n",
    "        X = transform_data()\n",
    "        X_train,X_val, y_train, y_val = train_test_split(X,y_split, test_size=0.3, random_state=42)\n",
    "        return X_train,X_val, y_train, y_val\n",
    "    #If we don't want to split the data, return the transformed only\n",
    "    else:\n",
    "        return transform_data()"
   ]
  },
  {
   "cell_type": "code",
   "execution_count": 55,
   "id": "79478366",
   "metadata": {},
   "outputs": [],
   "source": [
    "#Transform and split the training set\n",
    "X_train,X_val, y_train, y_val = transform_split(x_train, split=True, y_split = targets)"
   ]
  },
  {
   "cell_type": "code",
   "execution_count": 41,
   "id": "5d35cd90",
   "metadata": {},
   "outputs": [],
   "source": [
    "X_test = transform_split(x_test, split=False)"
   ]
  },
  {
   "cell_type": "code",
   "execution_count": 42,
   "id": "cce821f9",
   "metadata": {},
   "outputs": [
    {
     "data": {
      "text/plain": [
       "(233599, 22)"
      ]
     },
     "execution_count": 42,
     "metadata": {},
     "output_type": "execute_result"
    }
   ],
   "source": [
    "X_test.shape"
   ]
  },
  {
   "cell_type": "code",
   "execution_count": 56,
   "id": "6056141b",
   "metadata": {},
   "outputs": [
    {
     "data": {
      "text/plain": [
       "(385047, 22)"
      ]
     },
     "execution_count": 56,
     "metadata": {},
     "output_type": "execute_result"
    }
   ],
   "source": [
    "X_train.shape"
   ]
  },
  {
   "cell_type": "code",
   "execution_count": 57,
   "id": "fcb312e1",
   "metadata": {
    "scrolled": true
   },
   "outputs": [
    {
     "data": {
      "text/plain": [
       "(165021, 22)"
      ]
     },
     "execution_count": 57,
     "metadata": {},
     "output_type": "execute_result"
    }
   ],
   "source": [
    "X_val.shape"
   ]
  },
  {
   "cell_type": "markdown",
   "id": "8b3e4252",
   "metadata": {},
   "source": [
    "# Training Different model and their Evaluations"
   ]
  },
  {
   "cell_type": "markdown",
   "id": "a927afd1",
   "metadata": {},
   "source": [
    "### Ordinary Linear regression"
   ]
  },
  {
   "cell_type": "code",
   "execution_count": 58,
   "id": "8ff1d190",
   "metadata": {},
   "outputs": [],
   "source": [
    "from sklearn.linear_model import LinearRegression\n",
    "model1 = LinearRegression()"
   ]
  },
  {
   "cell_type": "code",
   "execution_count": 59,
   "id": "d9f406de",
   "metadata": {},
   "outputs": [],
   "source": [
    "from sklearn.metrics import r2_score, mean_squared_error\n",
    "def check_score(model, x, y):\n",
    "    model.fit(x,y)\n",
    "    y_pred = model.predict(x)\n",
    "    r2 = r2_score(y, y_pred)\n",
    "    rmse = np.sqrt(mean_squared_error(y, y_pred))\n",
    "    print(f\"R^2 Score: {round(r2,2)}\")\n",
    "    print(f\"RMSE: {round(rmse,2)}\")"
   ]
  },
  {
   "cell_type": "code",
   "execution_count": 60,
   "id": "5b4ca1d2",
   "metadata": {
    "scrolled": true
   },
   "outputs": [
    {
     "name": "stdout",
     "output_type": "stream",
     "text": [
      "R^2 Score: 0.13\n",
      "RMSE: 4686.2\n"
     ]
    }
   ],
   "source": [
    "check_score(model1, X_train, y_train)"
   ]
  },
  {
   "cell_type": "markdown",
   "id": "1a7c25e0",
   "metadata": {},
   "source": [
    "#### Regularized Linear Regression model"
   ]
  },
  {
   "cell_type": "markdown",
   "id": "486838d8",
   "metadata": {},
   "source": [
    "#### Ridge"
   ]
  },
  {
   "cell_type": "code",
   "execution_count": 61,
   "id": "2bffdae6",
   "metadata": {},
   "outputs": [
    {
     "name": "stdout",
     "output_type": "stream",
     "text": [
      "R^2 Score: 0.13\n",
      "RMSE: 4686.2\n"
     ]
    }
   ],
   "source": [
    "from sklearn.linear_model import Ridge\n",
    "ridge = Ridge(alpha=0.5)\n",
    "check_score(ridge, X_train, y_train)"
   ]
  },
  {
   "cell_type": "markdown",
   "id": "f440a6f7",
   "metadata": {},
   "source": [
    "#### Lasso"
   ]
  },
  {
   "cell_type": "code",
   "execution_count": 62,
   "id": "2c1c9d42",
   "metadata": {},
   "outputs": [
    {
     "name": "stdout",
     "output_type": "stream",
     "text": [
      "R^2 Score: 0.13\n",
      "RMSE: 4686.21\n"
     ]
    }
   ],
   "source": [
    "from sklearn.linear_model import Lasso\n",
    "lasso = Lasso(alpha=0.5)\n",
    "check_score(lasso, X_train, y_train)"
   ]
  },
  {
   "cell_type": "markdown",
   "id": "0d088925",
   "metadata": {},
   "source": [
    "### Stochastic Gradient Descent Regressor"
   ]
  },
  {
   "cell_type": "code",
   "execution_count": 63,
   "id": "2c834810",
   "metadata": {},
   "outputs": [
    {
     "name": "stdout",
     "output_type": "stream",
     "text": [
      "R^2 Score: 0.13\n",
      "RMSE: 4686.78\n"
     ]
    }
   ],
   "source": [
    "from sklearn.linear_model import SGDRegressor\n",
    "sgd = SGDRegressor()\n",
    "check_score(sgd, X_train, y_train)"
   ]
  },
  {
   "cell_type": "markdown",
   "id": "1ebc5806",
   "metadata": {},
   "source": [
    "### Random Forest Regressor"
   ]
  },
  {
   "cell_type": "code",
   "execution_count": 64,
   "id": "b1abc8a9",
   "metadata": {
    "scrolled": true
   },
   "outputs": [
    {
     "name": "stdout",
     "output_type": "stream",
     "text": [
      "R^2 Score: 0.8\n",
      "RMSE: 2261.68\n"
     ]
    }
   ],
   "source": [
    "from sklearn.ensemble import RandomForestRegressor\n",
    "model2 = RandomForestRegressor(random_state=42)\n",
    "check_score(model2, X_train, y_train)"
   ]
  },
  {
   "cell_type": "markdown",
   "id": "1ae61ab2",
   "metadata": {},
   "source": [
    "### Decision Tree Regressor"
   ]
  },
  {
   "cell_type": "code",
   "execution_count": 66,
   "id": "508b0660",
   "metadata": {},
   "outputs": [
    {
     "name": "stdout",
     "output_type": "stream",
     "text": [
      "R^2 Score: 0.81\n",
      "RMSE: 2194.82\n"
     ]
    }
   ],
   "source": [
    "from sklearn.tree import DecisionTreeRegressor\n",
    "model3 = DecisionTreeRegressor(random_state=42)\n",
    "check_score(model3, X_train, y_train)"
   ]
  },
  {
   "cell_type": "markdown",
   "id": "ee6da61f",
   "metadata": {},
   "source": [
    "**NB: DecisionTreeRegressor performs better than the rest on the training set.**"
   ]
  },
  {
   "cell_type": "markdown",
   "id": "ad544b3f",
   "metadata": {},
   "source": [
    "# Saving the models "
   ]
  },
  {
   "cell_type": "code",
   "execution_count": 67,
   "id": "efdb8ef0",
   "metadata": {},
   "outputs": [
    {
     "data": {
      "text/plain": [
       "['models.joblib']"
      ]
     },
     "execution_count": 67,
     "metadata": {},
     "output_type": "execute_result"
    }
   ],
   "source": [
    "import joblib\n",
    "models = {\n",
    "    'LinearRegressor':model1,\n",
    "    'Ridge': ridge,\n",
    "    'Lasso': lasso,\n",
    "    'SDGRegressor': sgd,\n",
    "    'RandomForest': model2,\n",
    "    'DecisionTree': model3\n",
    "}\n",
    "joblib.dump(models, 'models.joblib')"
   ]
  },
  {
   "cell_type": "code",
   "execution_count": 68,
   "id": "3c4449f6",
   "metadata": {},
   "outputs": [],
   "source": [
    "model = joblib.load('models.joblib')"
   ]
  },
  {
   "cell_type": "markdown",
   "id": "819b2463",
   "metadata": {},
   "source": [
    "### Now, Let's check how the models perform on Validation set."
   ]
  },
  {
   "cell_type": "code",
   "execution_count": 72,
   "id": "e85b4f59",
   "metadata": {},
   "outputs": [],
   "source": [
    "def val_pred(input_data, input_model):\n",
    "    pred = model[input_model].predict(input_data)\n",
    "    r2 = r2_score(y_val, pred)\n",
    "    rmse = np.sqrt(mean_squared_error(y_val, pred))\n",
    "    print(f\"For {input_model}:\")\n",
    "    print(f\"R^2 Score: {round(r2,2)}\")\n",
    "    print(f\"RMSE: {round(rmse,2)}\")"
   ]
  },
  {
   "cell_type": "code",
   "execution_count": 73,
   "id": "ba19e0e5",
   "metadata": {
    "scrolled": true
   },
   "outputs": [
    {
     "name": "stdout",
     "output_type": "stream",
     "text": [
      "For LinearRegressor:\n",
      "R^2 Score: 0.13\n",
      "RMSE: 4689.92\n"
     ]
    }
   ],
   "source": [
    "val_pred(input_data=X_val, input_model='LinearRegressor')"
   ]
  },
  {
   "cell_type": "code",
   "execution_count": 74,
   "id": "d7d0c235",
   "metadata": {},
   "outputs": [
    {
     "name": "stdout",
     "output_type": "stream",
     "text": [
      "For Ridge:\n",
      "R^2 Score: 0.13\n",
      "RMSE: 4689.99\n"
     ]
    }
   ],
   "source": [
    "val_pred(input_data=X_val, input_model='Ridge')"
   ]
  },
  {
   "cell_type": "code",
   "execution_count": 75,
   "id": "cbcebcbd",
   "metadata": {
    "scrolled": true
   },
   "outputs": [
    {
     "name": "stdout",
     "output_type": "stream",
     "text": [
      "For Lasso:\n",
      "R^2 Score: 0.13\n",
      "RMSE: 4690.01\n"
     ]
    }
   ],
   "source": [
    "val_pred(input_data=X_val, input_model='Lasso')"
   ]
  },
  {
   "cell_type": "code",
   "execution_count": 78,
   "id": "88208d7e",
   "metadata": {},
   "outputs": [
    {
     "name": "stdout",
     "output_type": "stream",
     "text": [
      "For SDGRegressor:\n",
      "R^2 Score: 0.13\n",
      "RMSE: 4690.55\n"
     ]
    }
   ],
   "source": [
    "val_pred(input_data=X_val, input_model='SDGRegressor')"
   ]
  },
  {
   "cell_type": "code",
   "execution_count": 76,
   "id": "857c42c4",
   "metadata": {},
   "outputs": [
    {
     "name": "stdout",
     "output_type": "stream",
     "text": [
      "For RandomForest:\n",
      "R^2 Score: 0.63\n",
      "RMSE: 3058.85\n"
     ]
    }
   ],
   "source": [
    "val_pred(input_data=X_val, input_model='RandomForest')"
   ]
  },
  {
   "cell_type": "code",
   "execution_count": 77,
   "id": "5b857514",
   "metadata": {},
   "outputs": [
    {
     "name": "stdout",
     "output_type": "stream",
     "text": [
      "For DecisionTree:\n",
      "R^2 Score: 0.55\n",
      "RMSE: 3370.51\n"
     ]
    }
   ],
   "source": [
    "val_pred(input_data=X_val, input_model='DecisionTree')"
   ]
  },
  {
   "cell_type": "markdown",
   "id": "a936c6ba",
   "metadata": {},
   "source": [
    "## Choosing the best model to use and validate with the Validation set"
   ]
  },
  {
   "cell_type": "code",
   "execution_count": null,
   "id": "427e9699",
   "metadata": {},
   "outputs": [],
   "source": []
  }
 ],
 "metadata": {
  "kernelspec": {
   "display_name": "Python 3 (ipykernel)",
   "language": "python",
   "name": "python3"
  },
  "language_info": {
   "codemirror_mode": {
    "name": "ipython",
    "version": 3
   },
   "file_extension": ".py",
   "mimetype": "text/x-python",
   "name": "python",
   "nbconvert_exporter": "python",
   "pygments_lexer": "ipython3",
   "version": "3.9.12"
  },
  "toc": {
   "base_numbering": 1,
   "nav_menu": {},
   "number_sections": false,
   "sideBar": true,
   "skip_h1_title": false,
   "title_cell": "Table of Contents",
   "title_sidebar": "Contents",
   "toc_cell": false,
   "toc_position": {},
   "toc_section_display": true,
   "toc_window_display": false
  },
  "varInspector": {
   "cols": {
    "lenName": 16,
    "lenType": 16,
    "lenVar": 40
   },
   "kernels_config": {
    "python": {
     "delete_cmd_postfix": "",
     "delete_cmd_prefix": "del ",
     "library": "var_list.py",
     "varRefreshCmd": "print(var_dic_list())"
    },
    "r": {
     "delete_cmd_postfix": ") ",
     "delete_cmd_prefix": "rm(",
     "library": "var_list.r",
     "varRefreshCmd": "cat(var_dic_list()) "
    }
   },
   "types_to_exclude": [
    "module",
    "function",
    "builtin_function_or_method",
    "instance",
    "_Feature"
   ],
   "window_display": false
  }
 },
 "nbformat": 4,
 "nbformat_minor": 5
}
